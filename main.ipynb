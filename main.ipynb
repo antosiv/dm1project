{
 "cells": [
  {
   "cell_type": "code",
   "execution_count": 1,
   "metadata": {},
   "outputs": [],
   "source": [
    "import pandas as pd"
   ]
  },
  {
   "cell_type": "code",
   "execution_count": 2,
   "metadata": {},
   "outputs": [
    {
     "data": {
      "text/html": [
       "<div>\n",
       "<style scoped>\n",
       "    .dataframe tbody tr th:only-of-type {\n",
       "        vertical-align: middle;\n",
       "    }\n",
       "\n",
       "    .dataframe tbody tr th {\n",
       "        vertical-align: top;\n",
       "    }\n",
       "\n",
       "    .dataframe thead th {\n",
       "        text-align: right;\n",
       "    }\n",
       "</style>\n",
       "<table border=\"1\" class=\"dataframe\">\n",
       "  <thead>\n",
       "    <tr style=\"text-align: right;\">\n",
       "      <th></th>\n",
       "      <th>rt</th>\n",
       "      <th>review</th>\n",
       "    </tr>\n",
       "  </thead>\n",
       "  <tbody>\n",
       "    <tr>\n",
       "      <th>0</th>\n",
       "      <td>plus</td>\n",
       "      <td>Everything was great. I was really happy stayi...</td>\n",
       "    </tr>\n",
       "    <tr>\n",
       "      <th>1</th>\n",
       "      <td>minus</td>\n",
       "      <td>I'm interested to see what the construction in...</td>\n",
       "    </tr>\n",
       "    <tr>\n",
       "      <th>2</th>\n",
       "      <td>plus</td>\n",
       "      <td>Location was good. Really good air conditioning.</td>\n",
       "    </tr>\n",
       "    <tr>\n",
       "      <th>3</th>\n",
       "      <td>minus</td>\n",
       "      <td>Room wasn’t clean. I found hair in the bed and...</td>\n",
       "    </tr>\n",
       "    <tr>\n",
       "      <th>4</th>\n",
       "      <td>plus</td>\n",
       "      <td>Room was beautifully decorated and over all ho...</td>\n",
       "    </tr>\n",
       "  </tbody>\n",
       "</table>\n",
       "</div>"
      ],
      "text/plain": [
       "      rt                                             review\n",
       "0   plus  Everything was great. I was really happy stayi...\n",
       "1  minus  I'm interested to see what the construction in...\n",
       "2   plus   Location was good. Really good air conditioning.\n",
       "3  minus  Room wasn’t clean. I found hair in the bed and...\n",
       "4   plus  Room was beautifully decorated and over all ho..."
      ]
     },
     "execution_count": 2,
     "metadata": {},
     "output_type": "execute_result"
    }
   ],
   "source": [
    "df = pd.read_csv('reviews_clear.csv', sep='^')\n",
    "df.head()"
   ]
  },
  {
   "cell_type": "code",
   "execution_count": 3,
   "metadata": {},
   "outputs": [
    {
     "data": {
      "text/plain": [
       "(10277, 2)"
      ]
     },
     "execution_count": 3,
     "metadata": {},
     "output_type": "execute_result"
    }
   ],
   "source": [
    "df.shape"
   ]
  },
  {
   "cell_type": "code",
   "execution_count": 4,
   "metadata": {},
   "outputs": [],
   "source": [
    "df = df.dropna().drop_duplicates()"
   ]
  },
  {
   "cell_type": "code",
   "execution_count": 5,
   "metadata": {},
   "outputs": [
    {
     "data": {
      "text/plain": [
       "(9720, 2)"
      ]
     },
     "execution_count": 5,
     "metadata": {},
     "output_type": "execute_result"
    }
   ],
   "source": [
    "df.shape"
   ]
  },
  {
   "cell_type": "code",
   "execution_count": 6,
   "metadata": {},
   "outputs": [],
   "source": [
    "import re\n",
    "from functools import partial\n",
    "df.review = df.review.apply(partial(re.sub, '[^a-zA-Z1-9 ]', ' '))\n",
    "df.review = df.review.apply(str.lower)"
   ]
  },
  {
   "cell_type": "code",
   "execution_count": 7,
   "metadata": {},
   "outputs": [],
   "source": [
    "# сбор текстов плюсов/минусов\n",
    "plus = ''\n",
    "minus = ''\n",
    "for i in range(df.shape[0]):\n",
    "    if df.iloc[i, 0] == 'minus':\n",
    "        minus += df.iloc[i, 1] + ' '\n",
    "    elif df.iloc[i, 0] == 'plus':\n",
    "        plus += df.iloc[i, 1] + ' '"
   ]
  },
  {
   "cell_type": "code",
   "execution_count": 8,
   "metadata": {},
   "outputs": [],
   "source": [
    "from nltk.tokenize import RegexpTokenizer\n",
    "tokenizer = RegexpTokenizer('\\w+|[^\\w\\s]+')"
   ]
  },
  {
   "cell_type": "code",
   "execution_count": 9,
   "metadata": {},
   "outputs": [],
   "source": [
    "plus_tokens = tokenizer.tokenize(plus)\n",
    "minus_tokens = tokenizer.tokenize(minus)"
   ]
  },
  {
   "cell_type": "code",
   "execution_count": 10,
   "metadata": {},
   "outputs": [],
   "source": [
    "from collections import Counter\n",
    "from nltk.corpus import stopwords"
   ]
  },
  {
   "cell_type": "code",
   "execution_count": 11,
   "metadata": {},
   "outputs": [],
   "source": [
    "plus_tokens = Counter(plus_tokens)\n",
    "minus_tokens = Counter(minus_tokens)"
   ]
  },
  {
   "cell_type": "code",
   "execution_count": 12,
   "metadata": {},
   "outputs": [],
   "source": [
    "for bad_word in stopwords.words('english'):\n",
    "    plus_tokens.pop(bad_word, None)\n",
    "    minus_tokens.pop(bad_word, None)"
   ]
  },
  {
   "cell_type": "code",
   "execution_count": 13,
   "metadata": {},
   "outputs": [
    {
     "data": {
      "text/plain": [
       "[('room', 3121),\n",
       " ('hotel', 1208),\n",
       " ('check', 826),\n",
       " ('rooms', 611),\n",
       " ('like', 567),\n",
       " ('staff', 566),\n",
       " ('get', 559),\n",
       " ('would', 473),\n",
       " ('long', 453),\n",
       " ('stay', 444),\n",
       " ('time', 408),\n",
       " ('shower', 401),\n",
       " ('us', 387),\n",
       " ('one', 386),\n",
       " ('water', 386),\n",
       " ('pool', 381),\n",
       " ('mgm', 381),\n",
       " ('casino', 361),\n",
       " ('great', 358),\n",
       " ('night', 354),\n",
       " ('2', 348),\n",
       " ('service', 346),\n",
       " ('even', 337),\n",
       " ('could', 335),\n",
       " ('3', 332),\n",
       " ('bed', 316),\n",
       " ('day', 311),\n",
       " ('bathroom', 306),\n",
       " ('vegas', 297),\n",
       " ('food', 293),\n",
       " ('good', 292),\n",
       " ('everything', 290),\n",
       " ('also', 287),\n",
       " ('floor', 287),\n",
       " ('coffee', 287),\n",
       " ('clean', 286),\n",
       " ('1', 279),\n",
       " ('people', 276),\n",
       " ('view', 272),\n",
       " ('price', 272),\n",
       " ('got', 264),\n",
       " ('walk', 262),\n",
       " ('expensive', 260),\n",
       " ('parking', 252),\n",
       " ('really', 248),\n",
       " ('resort', 243),\n",
       " ('took', 242),\n",
       " ('small', 242),\n",
       " ('much', 237),\n",
       " ('strip', 236),\n",
       " ('booking', 231),\n",
       " ('fridge', 230),\n",
       " ('way', 229),\n",
       " ('location', 223),\n",
       " ('fee', 222),\n",
       " ('bad', 221),\n",
       " ('desk', 218),\n",
       " ('smoking', 214),\n",
       " ('nice', 214),\n",
       " ('front', 213),\n",
       " ('pay', 210),\n",
       " ('better', 209),\n",
       " ('door', 209),\n",
       " ('never', 203),\n",
       " ('5', 202),\n",
       " ('smoke', 198),\n",
       " ('dirty', 196),\n",
       " ('line', 193),\n",
       " ('big', 192),\n",
       " ('little', 189),\n",
       " ('charge', 188),\n",
       " ('back', 188),\n",
       " ('area', 184),\n",
       " ('charged', 184),\n",
       " ('first', 181),\n",
       " ('use', 180),\n",
       " ('stayed', 178),\n",
       " ('place', 176),\n",
       " ('bit', 176),\n",
       " ('old', 174),\n",
       " ('told', 173),\n",
       " ('money', 170),\n",
       " ('smell', 168),\n",
       " ('hour', 168),\n",
       " ('work', 168),\n",
       " ('4', 167),\n",
       " ('hotels', 167),\n",
       " ('booked', 167),\n",
       " ('extra', 166),\n",
       " ('need', 165),\n",
       " ('nothing', 164),\n",
       " ('hot', 163),\n",
       " ('wifi', 162),\n",
       " ('wing', 160),\n",
       " ('poor', 159),\n",
       " ('far', 158),\n",
       " ('west', 157),\n",
       " ('go', 157),\n",
       " ('well', 157),\n",
       " ('minutes', 157)]"
      ]
     },
     "execution_count": 13,
     "metadata": {},
     "output_type": "execute_result"
    }
   ],
   "source": [
    "m_tokens = minus_tokens.most_common(100)\n",
    "m_tokens"
   ]
  },
  {
   "cell_type": "code",
   "execution_count": 14,
   "metadata": {},
   "outputs": [
    {
     "data": {
      "text/plain": [
       "[('room', 1092),\n",
       " ('great', 928),\n",
       " ('location', 879),\n",
       " ('hotel', 793),\n",
       " ('good', 705),\n",
       " ('staff', 677),\n",
       " ('nice', 551),\n",
       " ('clean', 441),\n",
       " ('pool', 419),\n",
       " ('comfortable', 409),\n",
       " ('strip', 363),\n",
       " ('rooms', 351),\n",
       " ('bed', 342),\n",
       " ('friendly', 293),\n",
       " ('everything', 273),\n",
       " ('casino', 258),\n",
       " ('restaurants', 250),\n",
       " ('excellent', 250),\n",
       " ('food', 229),\n",
       " ('check', 216),\n",
       " ('facilities', 216),\n",
       " ('stay', 213),\n",
       " ('mgm', 203),\n",
       " ('helpful', 201),\n",
       " ('vegas', 196),\n",
       " ('service', 183),\n",
       " ('amazing', 175),\n",
       " ('well', 157),\n",
       " ('really', 154),\n",
       " ('view', 150),\n",
       " ('area', 149),\n",
       " ('big', 148),\n",
       " ('easy', 145),\n",
       " ('loved', 138),\n",
       " ('place', 128),\n",
       " ('lots', 127),\n",
       " ('beds', 126),\n",
       " ('one', 119),\n",
       " ('liked', 119),\n",
       " ('like', 119),\n",
       " ('us', 117),\n",
       " ('also', 114),\n",
       " ('pools', 112),\n",
       " ('spacious', 111),\n",
       " ('time', 110),\n",
       " ('get', 109),\n",
       " ('free', 107),\n",
       " ('size', 103),\n",
       " ('close', 103),\n",
       " ('comfy', 102),\n",
       " ('price', 102),\n",
       " ('would', 101),\n",
       " ('large', 95),\n",
       " ('huge', 94),\n",
       " ('awesome', 91),\n",
       " ('best', 90),\n",
       " ('fantastic', 87),\n",
       " ('buffet', 87),\n",
       " ('monorail', 86),\n",
       " ('access', 83),\n",
       " ('need', 82),\n",
       " ('bathroom', 82),\n",
       " ('options', 80),\n",
       " ('shows', 80),\n",
       " ('perfect', 80),\n",
       " ('suite', 78),\n",
       " ('hotels', 78),\n",
       " ('convenient', 78),\n",
       " ('grand', 76),\n",
       " ('show', 75),\n",
       " ('night', 73),\n",
       " ('stayed', 72),\n",
       " ('quiet', 71),\n",
       " ('many', 71),\n",
       " ('modern', 71),\n",
       " ('super', 70),\n",
       " ('parking', 70),\n",
       " ('lot', 69),\n",
       " ('entertainment', 69),\n",
       " ('money', 68),\n",
       " ('got', 66),\n",
       " ('lovely', 66),\n",
       " ('much', 65),\n",
       " ('experience', 65),\n",
       " ('atmosphere', 64),\n",
       " ('right', 64),\n",
       " ('floor', 63),\n",
       " ('overall', 63),\n",
       " ('go', 63),\n",
       " ('day', 62),\n",
       " ('value', 62),\n",
       " ('amenities', 61),\n",
       " ('plenty', 60),\n",
       " ('bars', 60),\n",
       " ('love', 60),\n",
       " ('restaurant', 59),\n",
       " ('back', 59),\n",
       " ('las', 58),\n",
       " ('things', 57),\n",
       " ('first', 57)]"
      ]
     },
     "execution_count": 14,
     "metadata": {},
     "output_type": "execute_result"
    }
   ],
   "source": [
    "p_tokens = plus_tokens.most_common(100)\n",
    "p_tokens"
   ]
  },
  {
   "cell_type": "code",
   "execution_count": 15,
   "metadata": {},
   "outputs": [
    {
     "name": "stdout",
     "output_type": "stream",
     "text": [
      "152\n"
     ]
    },
    {
     "data": {
      "text/plain": [
       "['mgm',\n",
       " 'charge',\n",
       " 'friendly',\n",
       " 'check',\n",
       " 'entertainment',\n",
       " 'grand',\n",
       " 'walk',\n",
       " 'easy',\n",
       " 'location',\n",
       " 'bit',\n",
       " 'better',\n",
       " 'wing',\n",
       " 'door',\n",
       " 'west',\n",
       " 'bathroom',\n",
       " 'fantastic',\n",
       " 'rooms',\n",
       " 'pool',\n",
       " 'facilities',\n",
       " '2',\n",
       " 'many',\n",
       " 'amazing',\n",
       " 'bed',\n",
       " 'free',\n",
       " 'close',\n",
       " 'pay',\n",
       " 'everything',\n",
       " 'shower',\n",
       " 'restaurants',\n",
       " 'awesome',\n",
       " 'loved',\n",
       " 'restaurant',\n",
       " 'huge',\n",
       " 'beds',\n",
       " 'smell',\n",
       " 'fridge',\n",
       " 'bars',\n",
       " 'parking',\n",
       " 'las',\n",
       " 'need',\n",
       " 'night',\n",
       " 'work',\n",
       " 'amenities',\n",
       " 'experience',\n",
       " 'view',\n",
       " 'front',\n",
       " 'nice',\n",
       " 'excellent',\n",
       " 'place',\n",
       " 'took',\n",
       " 'big',\n",
       " 'water',\n",
       " 'old',\n",
       " 'back',\n",
       " 'day',\n",
       " 'much',\n",
       " 'area',\n",
       " 'us',\n",
       " 'hotels',\n",
       " 'extra',\n",
       " 'buffet',\n",
       " 'hotel',\n",
       " 'got',\n",
       " 'helpful',\n",
       " 'could',\n",
       " 'super',\n",
       " 'smoke',\n",
       " 'staff',\n",
       " 'size',\n",
       " 'never',\n",
       " 'monorail',\n",
       " 'food',\n",
       " 'options',\n",
       " 'casino',\n",
       " 'resort',\n",
       " 'value',\n",
       " 'small',\n",
       " 'poor',\n",
       " 'also',\n",
       " 'perfect',\n",
       " 'told',\n",
       " '3',\n",
       " 'hour',\n",
       " 'liked',\n",
       " 'well',\n",
       " 'convenient',\n",
       " 'people',\n",
       " 'atmosphere',\n",
       " 'access',\n",
       " 'stayed',\n",
       " 'line',\n",
       " 'fee',\n",
       " 'spacious',\n",
       " '5',\n",
       " 'right',\n",
       " 'would',\n",
       " 'smoking',\n",
       " 'far',\n",
       " 'large',\n",
       " 'modern',\n",
       " 'service',\n",
       " 'charged',\n",
       " 'like',\n",
       " '4',\n",
       " 'things',\n",
       " 'overall',\n",
       " '1',\n",
       " 'even',\n",
       " 'good',\n",
       " 'lovely',\n",
       " 'money',\n",
       " 'suite',\n",
       " 'way',\n",
       " 'one',\n",
       " 'get',\n",
       " 'desk',\n",
       " 'dirty',\n",
       " 'quiet',\n",
       " 'stay',\n",
       " 'pools',\n",
       " 'room',\n",
       " 'hot',\n",
       " 'wifi',\n",
       " 'floor',\n",
       " 'lot',\n",
       " 'use',\n",
       " 'best',\n",
       " 'minutes',\n",
       " 'coffee',\n",
       " 'plenty',\n",
       " 'great',\n",
       " 'long',\n",
       " 'booked',\n",
       " 'lots',\n",
       " 'comfy',\n",
       " 'nothing',\n",
       " 'vegas',\n",
       " 'comfortable',\n",
       " 'show',\n",
       " 'booking',\n",
       " 'go',\n",
       " 'price',\n",
       " 'love',\n",
       " 'shows',\n",
       " 'first',\n",
       " 'bad',\n",
       " 'clean',\n",
       " 'really',\n",
       " 'expensive',\n",
       " 'time',\n",
       " 'little',\n",
       " 'strip']"
      ]
     },
     "execution_count": 15,
     "metadata": {},
     "output_type": "execute_result"
    }
   ],
   "source": [
    "m_tokens = dict(m_tokens)\n",
    "p_tokens = dict(p_tokens)\n",
    "features = list(set(m_tokens).union(set(p_tokens)))\n",
    "print(len(features))\n",
    "features"
   ]
  },
  {
   "cell_type": "code",
   "execution_count": 16,
   "metadata": {},
   "outputs": [],
   "source": [
    "import numpy as np"
   ]
  },
  {
   "cell_type": "code",
   "execution_count": 17,
   "metadata": {},
   "outputs": [],
   "source": [
    "def transform_data(df_, features):\n",
    "    res_x = np.zeros((df_.shape[0], len(features)))\n",
    "    res_y = np.empty(df_.shape[0], dtype=np.int32)\n",
    "    for i in range(res_x.shape[0]):\n",
    "        if df_.iloc[i, 0] == 'plus':\n",
    "            res_y[i] = 1\n",
    "        elif df_.iloc[i, 0] == 'minus':\n",
    "            res_y[i] = 0\n",
    "        tmp = Counter(tokenizer.tokenize(df_.iloc[i, 1]))\n",
    "        for token in tmp.keys():\n",
    "            try:\n",
    "                ind = features.index(token)\n",
    "            except ValueError:\n",
    "                continue\n",
    "            res_x[i, ind] = tmp[token]\n",
    "    return res_x, res_y"
   ]
  },
  {
   "cell_type": "code",
   "execution_count": 18,
   "metadata": {},
   "outputs": [],
   "source": [
    "X, y = transform_data(df, features)"
   ]
  },
  {
   "cell_type": "code",
   "execution_count": 19,
   "metadata": {},
   "outputs": [],
   "source": [
    "from sklearn.linear_model import LogisticRegression\n",
    "from sklearn.preprocessing import StandardScaler\n",
    "from sklearn.pipeline import Pipeline\n",
    "from sklearn.model_selection import cross_val_score, train_test_split\n",
    "from sklearn.metrics import roc_curve, auc\n",
    "import matplotlib.pyplot as plt"
   ]
  },
  {
   "cell_type": "code",
   "execution_count": 20,
   "metadata": {},
   "outputs": [],
   "source": [
    "model = Pipeline(\n",
    "    [\n",
    "        ('scaler', StandardScaler()),\n",
    "        ('main', LogisticRegression())\n",
    "    ]\n",
    ")"
   ]
  },
  {
   "cell_type": "code",
   "execution_count": 21,
   "metadata": {},
   "outputs": [
    {
     "data": {
      "text/plain": [
       "0.794238683127572"
      ]
     },
     "execution_count": 21,
     "metadata": {},
     "output_type": "execute_result"
    }
   ],
   "source": [
    "cross_val_score(model, X, y).mean()"
   ]
  },
  {
   "cell_type": "code",
   "execution_count": 22,
   "metadata": {},
   "outputs": [],
   "source": [
    "X_train, X_test, y_train, y_test = train_test_split(X, y)"
   ]
  },
  {
   "cell_type": "code",
   "execution_count": 23,
   "metadata": {},
   "outputs": [
    {
     "data": {
      "text/plain": [
       "Pipeline(memory=None,\n",
       "     steps=[('scaler', StandardScaler(copy=True, with_mean=True, with_std=True)), ('main', LogisticRegression(C=1.0, class_weight=None, dual=False, fit_intercept=True,\n",
       "          intercept_scaling=1, max_iter=100, multi_class='ovr', n_jobs=1,\n",
       "          penalty='l2', random_state=None, solver='liblinear', tol=0.0001,\n",
       "          verbose=0, warm_start=False))])"
      ]
     },
     "execution_count": 23,
     "metadata": {},
     "output_type": "execute_result"
    }
   ],
   "source": [
    "model.fit(X_train, y_train)"
   ]
  },
  {
   "cell_type": "code",
   "execution_count": 24,
   "metadata": {},
   "outputs": [
    {
     "data": {
      "image/png": "[encoded data removed]",
      "text/plain": [
       "<matplotlib.figure.Figure at 0x7fa20cba55f8>"
      ]
     },
     "metadata": {},
     "output_type": "display_data"
    }
   ],
   "source": [
    "probs = model.predict_proba(X_test)\n",
    "preds = probs[:,1]\n",
    "fpr, tpr, threshold = roc_curve(y_test, preds)\n",
    "roc_auc = auc(fpr, tpr)\n",
    "\n",
    "plt.title('Receiver Operating Characteristic')\n",
    "plt.plot(fpr, tpr, 'b', label = 'AUC = %0.2f' % roc_auc)\n",
    "plt.legend(loc = 'lower right')\n",
    "plt.plot([0, 1], [0, 1],'r--')\n",
    "plt.xlim([0, 1])\n",
    "plt.ylim([0, 1])\n",
    "plt.ylabel('True Positive Rate')\n",
    "plt.xlabel('False Positive Rate')\n",
    "plt.show()"
   ]
  }
 ],
 "metadata": {
  "kernelspec": {
   "display_name": "Python 3",
   "language": "python",
   "name": "python3"
  },
  "language_info": {
   "codemirror_mode": {
    "name": "ipython",
    "version": 3
   },
   "file_extension": ".py",
   "mimetype": "text/x-python",
   "name": "python",
   "nbconvert_exporter": "python",
   "pygments_lexer": "ipython3",
   "version": "3.6.4"
  }
 },
 "nbformat": 4,
 "nbformat_minor": 2
}
