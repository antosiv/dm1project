{
 "cells": [
  {
   "cell_type": "code",
   "execution_count": 17,
   "metadata": {},
   "outputs": [],
   "source": [
    "import pandas as pd\n",
    "import re\n",
    "import numpy as np\n",
    "\n",
    "from sklearn.cross_validation import train_test_split\n",
    "\n",
    "from sklearn.svm import SVC\n",
    "from sklearn.ensemble import RandomForestClassifier\n",
    "from sklearn.linear_model import LogisticRegression\n",
    "\n",
    "from sklearn.preprocessing import StandardScaler\n",
    "from sklearn.pipeline import Pipeline\n",
    "\n",
    "from sklearn.metrics import roc_curve, auc, f1_score\n",
    "\n",
    "from gensim.models.word2vec import Word2Vec\n",
    "from functools import partial\n",
    "\n",
    "import matplotlib.pyplot as plt"
   ]
  },
  {
   "cell_type": "markdown",
   "metadata": {},
   "source": [
    "Загружаем данные"
   ]
  },
  {
   "cell_type": "code",
   "execution_count": 18,
   "metadata": {},
   "outputs": [
    {
     "data": {
      "text/html": [
       "<div>\n",
       "<style scoped>\n",
       "    .dataframe tbody tr th:only-of-type {\n",
       "        vertical-align: middle;\n",
       "    }\n",
       "\n",
       "    .dataframe tbody tr th {\n",
       "        vertical-align: top;\n",
       "    }\n",
       "\n",
       "    .dataframe thead th {\n",
       "        text-align: right;\n",
       "    }\n",
       "</style>\n",
       "<table border=\"1\" class=\"dataframe\">\n",
       "  <thead>\n",
       "    <tr style=\"text-align: right;\">\n",
       "      <th></th>\n",
       "      <th>Rate</th>\n",
       "      <th>Review</th>\n",
       "    </tr>\n",
       "  </thead>\n",
       "  <tbody>\n",
       "    <tr>\n",
       "      <th>0</th>\n",
       "      <td>plus</td>\n",
       "      <td>Everything was great. I was really happy stayi...</td>\n",
       "    </tr>\n",
       "    <tr>\n",
       "      <th>1</th>\n",
       "      <td>minus</td>\n",
       "      <td>I'm interested to see what the construction in...</td>\n",
       "    </tr>\n",
       "    <tr>\n",
       "      <th>2</th>\n",
       "      <td>plus</td>\n",
       "      <td>Location was good. Really good air conditioning.</td>\n",
       "    </tr>\n",
       "    <tr>\n",
       "      <th>3</th>\n",
       "      <td>minus</td>\n",
       "      <td>Room wasn’t clean. I found hair in the bed and...</td>\n",
       "    </tr>\n",
       "    <tr>\n",
       "      <th>4</th>\n",
       "      <td>plus</td>\n",
       "      <td>Room was beautifully decorated and over all ho...</td>\n",
       "    </tr>\n",
       "  </tbody>\n",
       "</table>\n",
       "</div>"
      ],
      "text/plain": [
       "    Rate                                             Review\n",
       "0   plus  Everything was great. I was really happy stayi...\n",
       "1  minus  I'm interested to see what the construction in...\n",
       "2   plus   Location was good. Really good air conditioning.\n",
       "3  minus  Room wasn’t clean. I found hair in the bed and...\n",
       "4   plus  Room was beautifully decorated and over all ho..."
      ]
     },
     "execution_count": 18,
     "metadata": {},
     "output_type": "execute_result"
    }
   ],
   "source": [
    "df = pd.read_csv('reviews_clear.csv', sep='^')\n",
    "df.rename(index=str, columns={\"rt\" : \"Rate\", \"review\" : \"Review\"}, inplace=True)\n",
    "df.head()"
   ]
  },
  {
   "cell_type": "markdown",
   "metadata": {},
   "source": [
    "Обрабатываем текст: \n",
    "* удаляем дубликаты, \n",
    "* оставляем только цифры и буквы в тексте\n",
    "* приводим буквы к нижнему регистру\n"
   ]
  },
  {
   "cell_type": "code",
   "execution_count": 34,
   "metadata": {},
   "outputs": [],
   "source": [
    "df = df.dropna().drop_duplicates()\n",
    "\n",
    "df.Review = df.Review.apply(partial(re.sub, '[^a-zA-Z1-9 ]', ' '))\n",
    "df.Review = df.Review.apply(str.lower)"
   ]
  },
  {
   "cell_type": "markdown",
   "metadata": {},
   "source": [
    "Переводим данные в более удобном виде в numpy массив"
   ]
  },
  {
   "cell_type": "code",
   "execution_count": 20,
   "metadata": {},
   "outputs": [],
   "source": [
    "def transform_data(df):\n",
    "    # use 1 for positive sentiment, 0 for negative\n",
    "    pos_size = df.Rate.value_counts()['plus']\n",
    "    neg_size = df.Rate.value_counts()['minus']\n",
    "    y = np.concatenate((np.ones(pos_size), np.zeros(neg_size))).astype(np.int)\n",
    "    \n",
    "    # decode dataframe to nupy\n",
    "    pos_idx = df.Rate == 'plus'\n",
    "    neg_idx = df.Rate == 'minus'\n",
    "    pos_rev = np.array(df.Review[pos_idx])\n",
    "    neg_rev = np.array(df.Review[neg_idx])\n",
    "    X = np.concatenate((pos_rev, neg_rev))\n",
    "    \n",
    "    # Each element decode to list of words\n",
    "    for i, x in enumerate(X):\n",
    "        X[i] = filter(bool, x.replace('  ', ' ').split(' '))\n",
    "    \n",
    "    return y, X"
   ]
  },
  {
   "cell_type": "markdown",
   "metadata": {},
   "source": [
    "Разделяем на тренирововчную и тестовую выборку"
   ]
  },
  {
   "cell_type": "code",
   "execution_count": 27,
   "metadata": {},
   "outputs": [],
   "source": [
    "y, X = transform_data(df)\n",
    "X_train, X_test, y_train, y_test = train_test_split(X, y, test_size=0.1)"
   ]
  },
  {
   "cell_type": "markdown",
   "metadata": {},
   "source": [
    "Преобразовывание отзыва в вектор с помощью усреднения векторов слов в тексте, которые присутвуют в модели\n",
    "    "
   ]
  },
  {
   "cell_type": "code",
   "execution_count": 6,
   "metadata": {},
   "outputs": [],
   "source": [
    "def buildWordVector(text, size, rev_w2v):\n",
    "    \n",
    "    vec = np.zeros(size).reshape((1, size))\n",
    "    count = 0.\n",
    "    for word in text:\n",
    "        try:\n",
    "            vec +=rev_w2v.wv[word].reshape((1, size))\n",
    "            count += 1.\n",
    "        except KeyError:\n",
    "            continue\n",
    "    if count != 0:\n",
    "        vec /= count\n",
    "        \n",
    "    return vec"
   ]
  },
  {
   "cell_type": "markdown",
   "metadata": {},
   "source": [
    "Тренировка модели преобразования текста на загруженном корпусе"
   ]
  },
  {
   "cell_type": "code",
   "execution_count": 7,
   "metadata": {},
   "outputs": [],
   "source": [
    "def encode_data(X_train, X_test, n_dim=300, epoch_count=100):\n",
    "\n",
    "    example_count = X_train.size\n",
    "    \n",
    "    #Initialize model and build vocabluary\n",
    "    rev_w2v = Word2Vec(size=n_dim, min_count=5)\n",
    "    rev_w2v.build_vocab(X_train)\n",
    "    \n",
    "    # Train the model over train_reviews\n",
    "    rev_w2v.train(X_train, total_examples=example_count, epochs=epoch_count)\n",
    "    train_vecs = np.concatenate([buildWordVector(item, n_dim, rev_w2v) for item in X_train])\n",
    "    \n",
    "    # Train the model over test_reviews\n",
    "    rev_w2v.train(X_test, total_examples=X_test.size, epochs=epoch_count)\n",
    "    test_vecs = np.concatenate([buildWordVector(z, n_dim, rev_w2v) for z in X_test])\n",
    "    \n",
    "    return train_vecs, test_vecs"
   ]
  },
  {
   "cell_type": "markdown",
   "metadata": {},
   "source": [
    "Функция построения графика"
   ]
  },
  {
   "cell_type": "code",
   "execution_count": 33,
   "metadata": {},
   "outputs": [],
   "source": [
    "def make_plot(y_test, preds):\n",
    "    \n",
    "    plt.figure(figsize=(9, 7))\n",
    "    fpr, tpr, threshold = roc_curve(y_test, preds)\n",
    "    roc_auc = auc(fpr, tpr)\n",
    "    \n",
    "    plt.title('Receiver Operating Characteristic')\n",
    "    plt.plot(fpr, tpr, 'b', label = 'AUC score= %0.2f' % roc_auc)\n",
    "    plt.legend(loc = 'lower right')\n",
    "    plt.plot([0, 1], [0, 1],'r--')\n",
    "    plt.xlim([0, 1])\n",
    "    plt.ylim([0, 1])\n",
    "    plt.ylabel('True Positive Rate')\n",
    "    plt.xlabel('False Positive Rate')\n",
    "\n",
    "    print \"F1-score: %0.2f, AUC score = %0.2f\" % (f1_score(y_test, prediction.round()) ,roc_auc)    \n",
    "    \n",
    "    plt.show()"
   ]
  },
  {
   "cell_type": "markdown",
   "metadata": {},
   "source": [
    "Примениен на нескольких моделях:\n",
    "* Случайный лес\n",
    "* Метод опрпных векторов\n",
    "* Логистическая регрессия"
   ]
  },
  {
   "cell_type": "code",
   "execution_count": 32,
   "metadata": {},
   "outputs": [],
   "source": [
    "# RandomForest ROC - 0.91\n",
    "classifier = RandomForestClassifier(n_estimators=200, min_samples_split=30,\n",
    "                                   criterion='entropy', max_depth=50)\n",
    "\n",
    "# SVG ROC - 0.89\n",
    "# classifier = LogisticRegression(max_iter=1e4, C=0.1)\n",
    "\n",
    "# SVM ROC - 0.9\n",
    "# classifier = SVC(C=1.0, kernel='rbf', max_iter=1e4, probability=True)\n",
    "\n",
    "scaler = StandardScaler(with_mean=True, with_std=False)"
   ]
  },
  {
   "cell_type": "markdown",
   "metadata": {},
   "source": [
    "В Pipeline нормализуем данные и применяем модель"
   ]
  },
  {
   "cell_type": "code",
   "execution_count": 31,
   "metadata": {},
   "outputs": [],
   "source": [
    "model = Pipeline(\n",
    "    [\n",
    "        ('scaler', scaler),\n",
    "        ('main', classifier)\n",
    "    ]\n",
    ")"
   ]
  },
  {
   "cell_type": "markdown",
   "metadata": {},
   "source": [
    "Тренировка модели"
   ]
  },
  {
   "cell_type": "code",
   "execution_count": 12,
   "metadata": {},
   "outputs": [],
   "source": [
    "train_vecs, test_vecs = encode_data(X_train, X_test, n_dim=300, epoch_count=100)\n",
    "model = model.fit(train_vecs, y_train)"
   ]
  },
  {
   "cell_type": "markdown",
   "metadata": {},
   "source": [
    "Предсказание данных"
   ]
  },
  {
   "cell_type": "code",
   "execution_count": 22,
   "metadata": {},
   "outputs": [],
   "source": [
    "probability = model.predict_proba(test_vecs)\n",
    "prediction = probability[:,1]"
   ]
  },
  {
   "cell_type": "markdown",
   "metadata": {},
   "source": [
    "Отрисовка результатов оценки качества модели"
   ]
  },
  {
   "cell_type": "code",
   "execution_count": 23,
   "metadata": {},
   "outputs": [
    {
     "name": "stdout",
     "output_type": "stream",
     "text": [
      "F1-score: 0.79, AUC score = 0.91\n"
     ]
    },
    {
     "data": {
      "image/png": "[encoded data removed]",
      "text/plain": [
       "<Figure size 648x504 with 1 Axes>"
      ]
     },
     "metadata": {},
     "output_type": "display_data"
    }
   ],
   "source": [
    "make_plot(y_test, prediction)"
   ]
  },
  {
   "cell_type": "code",
   "execution_count": null,
   "metadata": {},
   "outputs": [],
   "source": []
  }
 ],
 "metadata": {
  "kernelspec": {
   "display_name": "Python 2",
   "language": "python",
   "name": "python2"
  },
  "language_info": {
   "codemirror_mode": {
    "name": "ipython",
    "version": 2
   },
   "file_extension": ".py",
   "mimetype": "text/x-python",
   "name": "python",
   "nbconvert_exporter": "python",
   "pygments_lexer": "ipython2",
   "version": "2.7.14"
  }
 },
 "nbformat": 4,
 "nbformat_minor": 2
}
